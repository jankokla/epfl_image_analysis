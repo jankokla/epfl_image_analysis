{
 "cells": [
  {
   "cell_type": "markdown",
   "source": [
    "# Training Example"
   ],
   "metadata": {
    "collapsed": false
   },
   "id": "d78a6fa4bac1fce4"
  },
  {
   "cell_type": "markdown",
   "source": [
    "## Imports"
   ],
   "metadata": {
    "collapsed": false
   },
   "id": "aaba8f94d658d331"
  },
  {
   "cell_type": "code",
   "execution_count": 27,
   "outputs": [
    {
     "name": "stdout",
     "output_type": "stream",
     "text": [
      "The autoreload extension is already loaded. To reload it, use:\n",
      "  %reload_ext autoreload\n"
     ]
    }
   ],
   "source": [
    "%load_ext autoreload\n",
    "%autoreload 2"
   ],
   "metadata": {
    "collapsed": false,
    "ExecuteTime": {
     "end_time": "2024-04-30T11:32:02.087226Z",
     "start_time": "2024-04-30T11:32:02.003714Z"
    }
   },
   "id": "48cecb09eef1a5bd"
  },
  {
   "cell_type": "code",
   "execution_count": 28,
   "outputs": [],
   "source": [
    "import torch.nn as nn\n",
    "from torch.optim import Adam\n",
    "from project.scripts.models import get_model\n",
    "from torch.optim.lr_scheduler import CosineAnnealingLR\n",
    "import timm"
   ],
   "metadata": {
    "collapsed": false,
    "ExecuteTime": {
     "end_time": "2024-04-30T11:32:02.271493Z",
     "start_time": "2024-04-30T11:32:02.224870Z"
    }
   },
   "id": "1eefce7d8ac28f75"
  },
  {
   "cell_type": "markdown",
   "source": [
    "## Training"
   ],
   "metadata": {
    "collapsed": false
   },
   "id": "a3016a1bc4983127"
  },
  {
   "cell_type": "code",
   "execution_count": 29,
   "outputs": [],
   "source": [
    "num_classes = 16\n",
    "num_epochs = 1\n"
   ],
   "metadata": {
    "collapsed": false,
    "ExecuteTime": {
     "end_time": "2024-04-30T11:32:03.547144Z",
     "start_time": "2024-04-30T11:32:03.514177Z"
    }
   },
   "id": "ddf3185d20792ad2"
  },
  {
   "cell_type": "code",
   "execution_count": 31,
   "outputs": [],
   "source": [
    "model = get_model('inception_v3.tv_in1k')"
   ],
   "metadata": {
    "collapsed": false,
    "ExecuteTime": {
     "end_time": "2024-04-30T11:32:13.095620Z",
     "start_time": "2024-04-30T11:32:12.135152Z"
    }
   },
   "id": "9f9493d662c09e89"
  },
  {
   "cell_type": "code",
   "execution_count": null,
   "outputs": [],
   "source": [
    "# get model specific transforms (normalization, resize)\n",
    "data_config = timm.data.resolve_model_data_config(model)"
   ],
   "metadata": {
    "collapsed": false
   },
   "id": "ae35c2727346d34d"
  },
  {
   "cell_type": "code",
   "execution_count": null,
   "outputs": [],
   "source": [
    "criterion = nn.CrossEntropyLoss()\n",
    "optimizer_ = Adam(model.parameters(), lr=0.0005)\n",
    "scheduler_ = CosineAnnealingLR(\n",
    "    optimizer_,\n",
    "    T_max=(len(train_loader.dataset) * num_epochs) // train_loader.batch_size,\n",
    ")"
   ],
   "metadata": {
    "collapsed": false
   },
   "id": "9645408205848541"
  },
  {
   "cell_type": "code",
   "execution_count": null,
   "outputs": [],
   "source": [],
   "metadata": {
    "collapsed": false
   },
   "id": "37c5d502bd9970d1"
  }
 ],
 "metadata": {
  "kernelspec": {
   "display_name": "Python 3",
   "language": "python",
   "name": "python3"
  },
  "language_info": {
   "codemirror_mode": {
    "name": "ipython",
    "version": 2
   },
   "file_extension": ".py",
   "mimetype": "text/x-python",
   "name": "python",
   "nbconvert_exporter": "python",
   "pygments_lexer": "ipython2",
   "version": "2.7.6"
  }
 },
 "nbformat": 4,
 "nbformat_minor": 5
}
