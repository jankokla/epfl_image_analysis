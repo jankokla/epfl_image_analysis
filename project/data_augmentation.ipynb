{
 "cells": [
  {
   "cell_type": "code",
   "execution_count": 7,
   "metadata": {},
   "outputs": [],
   "source": [
    "import albumentations as A\n",
    "from typing import Callable\n",
    "import cv2 as cv\n",
    "import numpy as np\n",
    "import matplotlib.pyplot as plt\n",
    "import os"
   ]
  },
  {
   "cell_type": "code",
   "execution_count": 8,
   "metadata": {},
   "outputs": [],
   "source": [
    "# read images from folder\n",
    "def read_images_from_folder(folder_path: str) -> list:   \n",
    "    images = []\n",
    "    for file in os.listdir(folder_path):\n",
    "        if file.endswith(\".png\"):\n",
    "            image = cv.imread(os.path.join(folder_path, file))\n",
    "            img_arr = np.array(image)\n",
    "            images.append(img_arr)\n",
    "    return images"
   ]
  },
  {
   "cell_type": "code",
   "execution_count": 9,
   "metadata": {},
   "outputs": [],
   "source": [
    "def resize_image(image, width, height):\n",
    "    resized = cv.resize(image, (width, height), interpolation = cv.INTER_AREA)\n",
    "    return resized"
   ]
  },
  {
   "cell_type": "code",
   "execution_count": 10,
   "metadata": {},
   "outputs": [],
   "source": [
    "trans = A.Compose([\n",
    "    A.HorizontalFlip(p=0.5),\n",
    "    A.VerticalFlip(p=0.5),\n",
    "    A.OneOf([\n",
    "        A.MotionBlur(p=0.2), # use motion blur \n",
    "        A.MedianBlur(blur_limit=3, p=0.1), # use median blur\n",
    "        A.Blur(blur_limit=3, p=0.1), # use blur\n",
    "    ], p=0.2), \n",
    "    A.OneOf([\n",
    "        A.GaussNoise(), # add gauss noise\n",
    "    ], p=0.2),\n",
    "    A.ShiftScaleRotate(shift_limit=0.0625, scale_limit=0.2, rotate_limit=45, p=0.2), # shift scale rotate\n",
    "    A.RandomBrightnessContrast(p=0.2), # random brightness contrast\n",
    "])"
   ]
  },
  {
   "cell_type": "code",
   "execution_count": 11,
   "metadata": {},
   "outputs": [],
   "source": [
    "def image_augmentation(image, transform):\n",
    "    \"\"\"\n",
    "    Apply augmentation to the image.\n",
    "    :param image: image to be augmented\n",
    "    :param transform: augmentation to be applied\n",
    "    :return: augmented image\n",
    "    \"\"\"\n",
    "    return transform(image=image)['image']"
   ]
  },
  {
   "cell_type": "code",
   "execution_count": 12,
   "metadata": {},
   "outputs": [],
   "source": [
    "images_coins = read_images_from_folder(\"coins\")\n",
    "augmented_images = []\n",
    "\n",
    "for index, image in enumerate(images_coins):\n",
    "    resized_image = resize_image(image, 600, 600)\n",
    "    augmented_image = image_augmentation(image = resized_image, transform = trans)\n",
    "    augmented_images.append(augmented_image)\n",
    "    cv.imwrite(f\"coins/{index}_augmented.png\", augmented_image)\n",
    "    "
   ]
  }
 ],
 "metadata": {
  "kernelspec": {
   "display_name": "iapr",
   "language": "python",
   "name": "python3"
  },
  "language_info": {
   "codemirror_mode": {
    "name": "ipython",
    "version": 3
   },
   "file_extension": ".py",
   "mimetype": "text/x-python",
   "name": "python",
   "nbconvert_exporter": "python",
   "pygments_lexer": "ipython3",
   "version": "3.9.18"
  }
 },
 "nbformat": 4,
 "nbformat_minor": 2
}
